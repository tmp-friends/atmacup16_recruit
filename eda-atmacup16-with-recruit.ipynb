{
 "cells": [
  {
   "cell_type": "markdown",
   "id": "e656f991",
   "metadata": {
    "papermill": {
     "duration": 0.006609,
     "end_time": "2023-12-13T23:13:05.563513",
     "exception": false,
     "start_time": "2023-12-13T23:13:05.556904",
     "status": "completed"
    },
    "tags": []
   },
   "source": [
    "# EDA - atmaCup16 with Recruit\n",
    "\n",
    "https://www.guruguru.science/competitions/22/data-sources"
   ]
  },
  {
   "cell_type": "code",
   "execution_count": 1,
   "id": "6b3165b1",
   "metadata": {
    "execution": {
     "iopub.execute_input": "2023-12-13T23:13:05.577800Z",
     "iopub.status.busy": "2023-12-13T23:13:05.577119Z",
     "iopub.status.idle": "2023-12-13T23:13:07.819483Z",
     "shell.execute_reply": "2023-12-13T23:13:07.818007Z"
    },
    "papermill": {
     "duration": 2.253278,
     "end_time": "2023-12-13T23:13:07.822907",
     "exception": false,
     "start_time": "2023-12-13T23:13:05.569629",
     "status": "completed"
    },
    "tags": []
   },
   "outputs": [],
   "source": [
    "import os\n",
    "\n",
    "import pandas as pd\n",
    "import numpy as np\n",
    "import seaborn as sns\n",
    "from matplotlib import pyplot as plt"
   ]
  },
  {
   "cell_type": "markdown",
   "id": "ba989fe6",
   "metadata": {
    "papermill": {
     "duration": 0.005993,
     "end_time": "2023-12-13T23:13:07.835190",
     "exception": false,
     "start_time": "2023-12-13T23:13:07.829197",
     "status": "completed"
    },
    "tags": []
   },
   "source": [
    "## train/test_log.csv\n",
    "\n",
    "学習 / テスト用の期間に対するあるセッションごとに出現した宿を記録したログデータです。seq_no が見た順番を表します。\n",
    "\n",
    "- session_id: セッションごとに割り振られたユニークな ID.\n",
    "- seq_no: セッション内で出現した順番\n",
    "- yad_no: 出現した宿 No\n",
    "\n",
    "補足\n",
    "- 連続した同じ宿が出現する場合それらは一つの宿 ID にまとめていることに注意してください。\n",
    "- セッション内で最後に出現する宿は必ず正解ラベルとは異なる宿となります。これは現在閲覧している宿とは違う宿をレコメンドしたいというニーズのためです。"
   ]
  },
  {
   "cell_type": "code",
   "execution_count": 2,
   "id": "25f4a53a",
   "metadata": {
    "execution": {
     "iopub.execute_input": "2023-12-13T23:13:07.849504Z",
     "iopub.status.busy": "2023-12-13T23:13:07.849002Z",
     "iopub.status.idle": "2023-12-13T23:13:08.737890Z",
     "shell.execute_reply": "2023-12-13T23:13:08.736533Z"
    },
    "papermill": {
     "duration": 0.899709,
     "end_time": "2023-12-13T23:13:08.740930",
     "exception": false,
     "start_time": "2023-12-13T23:13:07.841221",
     "status": "completed"
    },
    "tags": []
   },
   "outputs": [],
   "source": [
    "train_logs_df = pd.read_csv(\"/kaggle/input/atmacup16-recruit/train_log.csv\")\n",
    "test_logs_df = pd.read_csv(\"/kaggle/input/atmacup16-recruit/test_log.csv\")"
   ]
  },
  {
   "cell_type": "code",
   "execution_count": 3,
   "id": "6ac66aea",
   "metadata": {
    "execution": {
     "iopub.execute_input": "2023-12-13T23:13:08.756353Z",
     "iopub.status.busy": "2023-12-13T23:13:08.755913Z",
     "iopub.status.idle": "2023-12-13T23:13:08.783620Z",
     "shell.execute_reply": "2023-12-13T23:13:08.782724Z"
    },
    "papermill": {
     "duration": 0.038651,
     "end_time": "2023-12-13T23:13:08.786064",
     "exception": false,
     "start_time": "2023-12-13T23:13:08.747413",
     "status": "completed"
    },
    "tags": []
   },
   "outputs": [
    {
     "data": {
      "text/html": [
       "<div>\n",
       "<style scoped>\n",
       "    .dataframe tbody tr th:only-of-type {\n",
       "        vertical-align: middle;\n",
       "    }\n",
       "\n",
       "    .dataframe tbody tr th {\n",
       "        vertical-align: top;\n",
       "    }\n",
       "\n",
       "    .dataframe thead th {\n",
       "        text-align: right;\n",
       "    }\n",
       "</style>\n",
       "<table border=\"1\" class=\"dataframe\">\n",
       "  <thead>\n",
       "    <tr style=\"text-align: right;\">\n",
       "      <th></th>\n",
       "      <th>session_id</th>\n",
       "      <th>seq_no</th>\n",
       "      <th>yad_no</th>\n",
       "    </tr>\n",
       "  </thead>\n",
       "  <tbody>\n",
       "    <tr>\n",
       "      <th>0</th>\n",
       "      <td>000007603d533d30453cc45d0f3d119f</td>\n",
       "      <td>0</td>\n",
       "      <td>2395</td>\n",
       "    </tr>\n",
       "    <tr>\n",
       "      <th>1</th>\n",
       "      <td>0000ca043ed437a1472c9d1d154eb49b</td>\n",
       "      <td>0</td>\n",
       "      <td>13535</td>\n",
       "    </tr>\n",
       "    <tr>\n",
       "      <th>2</th>\n",
       "      <td>0000d4835cf113316fe447e2f80ba1c8</td>\n",
       "      <td>0</td>\n",
       "      <td>123</td>\n",
       "    </tr>\n",
       "    <tr>\n",
       "      <th>3</th>\n",
       "      <td>0000fcda1ae1b2f431e55a7075d1f500</td>\n",
       "      <td>0</td>\n",
       "      <td>8475</td>\n",
       "    </tr>\n",
       "    <tr>\n",
       "      <th>4</th>\n",
       "      <td>000104bdffaaad1a1e0a9ebacf585f33</td>\n",
       "      <td>0</td>\n",
       "      <td>96</td>\n",
       "    </tr>\n",
       "    <tr>\n",
       "      <th>...</th>\n",
       "      <td>...</td>\n",
       "      <td>...</td>\n",
       "      <td>...</td>\n",
       "    </tr>\n",
       "    <tr>\n",
       "      <th>419265</th>\n",
       "      <td>ffffcd5bc19d62cad5a3815c87818d83</td>\n",
       "      <td>0</td>\n",
       "      <td>12230</td>\n",
       "    </tr>\n",
       "    <tr>\n",
       "      <th>419266</th>\n",
       "      <td>ffffcd5bc19d62cad5a3815c87818d83</td>\n",
       "      <td>1</td>\n",
       "      <td>10619</td>\n",
       "    </tr>\n",
       "    <tr>\n",
       "      <th>419267</th>\n",
       "      <td>ffffcd5bc19d62cad5a3815c87818d83</td>\n",
       "      <td>2</td>\n",
       "      <td>12230</td>\n",
       "    </tr>\n",
       "    <tr>\n",
       "      <th>419268</th>\n",
       "      <td>fffffa7baf370083ebcdd98f26a7e31a</td>\n",
       "      <td>0</td>\n",
       "      <td>2439</td>\n",
       "    </tr>\n",
       "    <tr>\n",
       "      <th>419269</th>\n",
       "      <td>fffffa7baf370083ebcdd98f26a7e31a</td>\n",
       "      <td>1</td>\n",
       "      <td>11822</td>\n",
       "    </tr>\n",
       "  </tbody>\n",
       "</table>\n",
       "<p>419270 rows × 3 columns</p>\n",
       "</div>"
      ],
      "text/plain": [
       "                              session_id  seq_no  yad_no\n",
       "0       000007603d533d30453cc45d0f3d119f       0    2395\n",
       "1       0000ca043ed437a1472c9d1d154eb49b       0   13535\n",
       "2       0000d4835cf113316fe447e2f80ba1c8       0     123\n",
       "3       0000fcda1ae1b2f431e55a7075d1f500       0    8475\n",
       "4       000104bdffaaad1a1e0a9ebacf585f33       0      96\n",
       "...                                  ...     ...     ...\n",
       "419265  ffffcd5bc19d62cad5a3815c87818d83       0   12230\n",
       "419266  ffffcd5bc19d62cad5a3815c87818d83       1   10619\n",
       "419267  ffffcd5bc19d62cad5a3815c87818d83       2   12230\n",
       "419268  fffffa7baf370083ebcdd98f26a7e31a       0    2439\n",
       "419269  fffffa7baf370083ebcdd98f26a7e31a       1   11822\n",
       "\n",
       "[419270 rows x 3 columns]"
      ]
     },
     "execution_count": 3,
     "metadata": {},
     "output_type": "execute_result"
    }
   ],
   "source": [
    "train_logs_df"
   ]
  },
  {
   "cell_type": "code",
   "execution_count": 4,
   "id": "f80821b7",
   "metadata": {
    "execution": {
     "iopub.execute_input": "2023-12-13T23:13:08.801262Z",
     "iopub.status.busy": "2023-12-13T23:13:08.800895Z",
     "iopub.status.idle": "2023-12-13T23:13:08.813685Z",
     "shell.execute_reply": "2023-12-13T23:13:08.812539Z"
    },
    "papermill": {
     "duration": 0.023545,
     "end_time": "2023-12-13T23:13:08.816306",
     "exception": false,
     "start_time": "2023-12-13T23:13:08.792761",
     "status": "completed"
    },
    "tags": []
   },
   "outputs": [
    {
     "data": {
      "text/html": [
       "<div>\n",
       "<style scoped>\n",
       "    .dataframe tbody tr th:only-of-type {\n",
       "        vertical-align: middle;\n",
       "    }\n",
       "\n",
       "    .dataframe tbody tr th {\n",
       "        vertical-align: top;\n",
       "    }\n",
       "\n",
       "    .dataframe thead th {\n",
       "        text-align: right;\n",
       "    }\n",
       "</style>\n",
       "<table border=\"1\" class=\"dataframe\">\n",
       "  <thead>\n",
       "    <tr style=\"text-align: right;\">\n",
       "      <th></th>\n",
       "      <th>session_id</th>\n",
       "      <th>seq_no</th>\n",
       "      <th>yad_no</th>\n",
       "    </tr>\n",
       "  </thead>\n",
       "  <tbody>\n",
       "    <tr>\n",
       "      <th>0</th>\n",
       "      <td>00001149e9c73985425197104712478c</td>\n",
       "      <td>0</td>\n",
       "      <td>3560</td>\n",
       "    </tr>\n",
       "    <tr>\n",
       "      <th>1</th>\n",
       "      <td>00001149e9c73985425197104712478c</td>\n",
       "      <td>1</td>\n",
       "      <td>1959</td>\n",
       "    </tr>\n",
       "    <tr>\n",
       "      <th>2</th>\n",
       "      <td>0000e02747d749a52b7736dfa751e258</td>\n",
       "      <td>0</td>\n",
       "      <td>11984</td>\n",
       "    </tr>\n",
       "    <tr>\n",
       "      <th>3</th>\n",
       "      <td>0000f17ae2628237d78d3a38b009d3be</td>\n",
       "      <td>0</td>\n",
       "      <td>757</td>\n",
       "    </tr>\n",
       "    <tr>\n",
       "      <th>4</th>\n",
       "      <td>0000f17ae2628237d78d3a38b009d3be</td>\n",
       "      <td>1</td>\n",
       "      <td>8922</td>\n",
       "    </tr>\n",
       "    <tr>\n",
       "      <th>...</th>\n",
       "      <td>...</td>\n",
       "      <td>...</td>\n",
       "      <td>...</td>\n",
       "    </tr>\n",
       "    <tr>\n",
       "      <th>250300</th>\n",
       "      <td>fffee3199ef94b92283239cd5e3534fa</td>\n",
       "      <td>1</td>\n",
       "      <td>8336</td>\n",
       "    </tr>\n",
       "    <tr>\n",
       "      <th>250301</th>\n",
       "      <td>ffff62c6bb49bc9c0fbcf08494a4869c</td>\n",
       "      <td>0</td>\n",
       "      <td>12062</td>\n",
       "    </tr>\n",
       "    <tr>\n",
       "      <th>250302</th>\n",
       "      <td>ffff9a7dcc892875c7a8b821fa436228</td>\n",
       "      <td>0</td>\n",
       "      <td>8989</td>\n",
       "    </tr>\n",
       "    <tr>\n",
       "      <th>250303</th>\n",
       "      <td>ffffb1d30300fe17f661941fd085b04b</td>\n",
       "      <td>0</td>\n",
       "      <td>6030</td>\n",
       "    </tr>\n",
       "    <tr>\n",
       "      <th>250304</th>\n",
       "      <td>ffffe984aafd6127ce8e43e3ca40c79d</td>\n",
       "      <td>0</td>\n",
       "      <td>8250</td>\n",
       "    </tr>\n",
       "  </tbody>\n",
       "</table>\n",
       "<p>250305 rows × 3 columns</p>\n",
       "</div>"
      ],
      "text/plain": [
       "                              session_id  seq_no  yad_no\n",
       "0       00001149e9c73985425197104712478c       0    3560\n",
       "1       00001149e9c73985425197104712478c       1    1959\n",
       "2       0000e02747d749a52b7736dfa751e258       0   11984\n",
       "3       0000f17ae2628237d78d3a38b009d3be       0     757\n",
       "4       0000f17ae2628237d78d3a38b009d3be       1    8922\n",
       "...                                  ...     ...     ...\n",
       "250300  fffee3199ef94b92283239cd5e3534fa       1    8336\n",
       "250301  ffff62c6bb49bc9c0fbcf08494a4869c       0   12062\n",
       "250302  ffff9a7dcc892875c7a8b821fa436228       0    8989\n",
       "250303  ffffb1d30300fe17f661941fd085b04b       0    6030\n",
       "250304  ffffe984aafd6127ce8e43e3ca40c79d       0    8250\n",
       "\n",
       "[250305 rows x 3 columns]"
      ]
     },
     "execution_count": 4,
     "metadata": {},
     "output_type": "execute_result"
    }
   ],
   "source": [
    "test_logs_df"
   ]
  },
  {
   "cell_type": "markdown",
   "id": "b6d9b17c",
   "metadata": {
    "papermill": {
     "duration": 0.007947,
     "end_time": "2023-12-13T23:13:08.831531",
     "exception": false,
     "start_time": "2023-12-13T23:13:08.823584",
     "status": "completed"
    },
    "tags": []
   },
   "source": [
    "### session_id"
   ]
  },
  {
   "cell_type": "code",
   "execution_count": 5,
   "id": "40b86b9d",
   "metadata": {
    "execution": {
     "iopub.execute_input": "2023-12-13T23:13:08.846927Z",
     "iopub.status.busy": "2023-12-13T23:13:08.846571Z",
     "iopub.status.idle": "2023-12-13T23:13:08.950502Z",
     "shell.execute_reply": "2023-12-13T23:13:08.949574Z"
    },
    "papermill": {
     "duration": 0.113832,
     "end_time": "2023-12-13T23:13:08.952477",
     "exception": false,
     "start_time": "2023-12-13T23:13:08.838645",
     "status": "completed"
    },
    "tags": []
   },
   "outputs": [
    {
     "data": {
      "text/plain": [
       "288698"
      ]
     },
     "execution_count": 5,
     "metadata": {},
     "output_type": "execute_result"
    }
   ],
   "source": [
    "# session_id数\n",
    "train_logs_df[\"session_id\"].nunique()"
   ]
  },
  {
   "cell_type": "code",
   "execution_count": 6,
   "id": "1aad3f95",
   "metadata": {
    "execution": {
     "iopub.execute_input": "2023-12-13T23:13:08.967813Z",
     "iopub.status.busy": "2023-12-13T23:13:08.967468Z",
     "iopub.status.idle": "2023-12-13T23:13:09.629171Z",
     "shell.execute_reply": "2023-12-13T23:13:09.628333Z"
    },
    "papermill": {
     "duration": 0.671709,
     "end_time": "2023-12-13T23:13:09.631142",
     "exception": false,
     "start_time": "2023-12-13T23:13:08.959433",
     "status": "completed"
    },
    "tags": []
   },
   "outputs": [
    {
     "data": {
      "image/png": "[encoded data removed]",
      "text/plain": [
       "<Figure size 800x600 with 1 Axes>"
      ]
     },
     "metadata": {},
     "output_type": "display_data"
    },
    {
     "name": "stdout",
     "output_type": "stream",
     "text": [
      "セッションあたりの閲覧数の平均値: 1.4522788519490957\n",
      "セッションあたりの閲覧数の中央値: 1.0\n",
      "セッションあたりの閲覧数の最大値: 10\n"
     ]
    }
   ],
   "source": [
    "# session_idごとのyado_idの数を計算\n",
    "num_yads_per_session_id = train_logs_df.groupby(\"session_id\").size()\n",
    "\n",
    "# ヒストグラムの描画\n",
    "plt.figure(figsize=(8, 6))\n",
    "num_yads_per_session_id.hist(bins=range(1, 101), edgecolor=\"black\")\n",
    "\n",
    "plt.title(\"Distribution of yad_id count per session_id\")\n",
    "plt.xlabel(\"Number of yad_nos\")\n",
    "plt.ylabel(\"Number of session_ids\")\n",
    "\n",
    "plt.show()\n",
    "\n",
    "# 統計量の計算\n",
    "avg_num_yads = num_yads_per_session_id.mean()\n",
    "med_num_yads = num_yads_per_session_id.median()\n",
    "max_num_yads = num_yads_per_session_id.max()\n",
    "\n",
    "print(f\"セッションあたりの閲覧数の平均値: {avg_num_yads}\")\n",
    "print(f\"セッションあたりの閲覧数の中央値: {med_num_yads}\")\n",
    "print(f\"セッションあたりの閲覧数の最大値: {max_num_yads}\")"
   ]
  },
  {
   "cell_type": "markdown",
   "id": "8bddca78",
   "metadata": {
    "papermill": {
     "duration": 0.00687,
     "end_time": "2023-12-13T23:13:09.645590",
     "exception": false,
     "start_time": "2023-12-13T23:13:09.638720",
     "status": "completed"
    },
    "tags": []
   },
   "source": [
    "所感\n",
    "- セッションベースのためとても少ない\n",
    "- 前処理での除外の影響もありそう"
   ]
  },
  {
   "cell_type": "code",
   "execution_count": 7,
   "id": "e18186c0",
   "metadata": {
    "execution": {
     "iopub.execute_input": "2023-12-13T23:13:09.662334Z",
     "iopub.status.busy": "2023-12-13T23:13:09.661909Z",
     "iopub.status.idle": "2023-12-13T23:13:09.917520Z",
     "shell.execute_reply": "2023-12-13T23:13:09.915707Z"
    },
    "papermill": {
     "duration": 0.268008,
     "end_time": "2023-12-13T23:13:09.920751",
     "exception": false,
     "start_time": "2023-12-13T23:13:09.652743",
     "status": "completed"
    },
    "tags": []
   },
   "outputs": [
    {
     "name": "stdout",
     "output_type": "stream",
     "text": [
      "全セッション数: 288698\n",
      "（行動ログ内の）全宿数: 13372\n",
      "density: 0.010%\n"
     ]
    }
   ],
   "source": [
    "total_sessions = train_logs_df[\"session_id\"].nunique()\n",
    "total_yads = train_logs_df[\"yad_no\"].nunique()\n",
    "total_comb = total_sessions * total_yads\n",
    "\n",
    "# 実際の行動ログ内にあるセッションと宿の組み合わせの数\n",
    "actual_comb = train_logs_df.drop_duplicates(\n",
    "    subset=[\"session_id\", \"yad_no\"]\n",
    ").shape[0]\n",
    "\n",
    "density = actual_comb / total_comb * 100\n",
    "\n",
    "print(f\"全セッション数: {total_sessions}\")\n",
    "print(f\"（行動ログ内の）全宿数: {total_yads}\")\n",
    "print(f\"density: {density:.3f}%\")"
   ]
  },
  {
   "cell_type": "markdown",
   "id": "bb783d92",
   "metadata": {
    "papermill": {
     "duration": 0.009258,
     "end_time": "2023-12-13T23:13:09.939417",
     "exception": false,
     "start_time": "2023-12-13T23:13:09.930159",
     "status": "completed"
    },
    "tags": []
   },
   "source": [
    "- densityが低いので、閲覧されている宿に偏りがある？"
   ]
  },
  {
   "cell_type": "markdown",
   "id": "74bee768",
   "metadata": {
    "papermill": {
     "duration": 0.008215,
     "end_time": "2023-12-13T23:13:09.959818",
     "exception": false,
     "start_time": "2023-12-13T23:13:09.951603",
     "status": "completed"
    },
    "tags": []
   },
   "source": [
    "### 人気アイテム"
   ]
  },
  {
   "cell_type": "code",
   "execution_count": 8,
   "id": "a4f8fc10",
   "metadata": {
    "execution": {
     "iopub.execute_input": "2023-12-13T23:13:09.982184Z",
     "iopub.status.busy": "2023-12-13T23:13:09.980375Z",
     "iopub.status.idle": "2023-12-13T23:13:10.276747Z",
     "shell.execute_reply": "2023-12-13T23:13:10.275388Z"
    },
    "papermill": {
     "duration": 0.31057,
     "end_time": "2023-12-13T23:13:10.279452",
     "exception": false,
     "start_time": "2023-12-13T23:13:09.968882",
     "status": "completed"
    },
    "tags": []
   },
   "outputs": [
    {
     "name": "stdout",
     "output_type": "stream",
     "text": [
      "yad_no\n",
      "3338     1422\n",
      "12350    1115\n",
      "10095     946\n",
      "13468     879\n",
      "8567      843\n",
      "         ... \n",
      "10115       1\n",
      "9487        1\n",
      "1871        1\n",
      "7278        1\n",
      "9594        1\n",
      "Name: count, Length: 13372, dtype: int64\n"
     ]
    },
    {
     "data": {
      "image/png": "[encoded data removed]",
      "text/plain": [
       "<Figure size 640x480 with 1 Axes>"
      ]
     },
     "metadata": {},
     "output_type": "display_data"
    }
   ],
   "source": [
    "yad_counts = train_logs_df[\"yad_no\"].value_counts()\n",
    "\n",
    "print(yad_counts)\n",
    "\n",
    "plt.hist(yad_counts, rwidth=0.8, bins=range(0, 500, 10))\n",
    "plt.title(\"yad order by popularity\")\n",
    "plt.xlabel(\"yad\")\n",
    "plt.ylabel(\"count\")\n",
    "\n",
    "plt.show()"
   ]
  },
  {
   "cell_type": "code",
   "execution_count": 9,
   "id": "c175a81f",
   "metadata": {
    "execution": {
     "iopub.execute_input": "2023-12-13T23:13:10.297539Z",
     "iopub.status.busy": "2023-12-13T23:13:10.296330Z",
     "iopub.status.idle": "2023-12-13T23:13:10.305041Z",
     "shell.execute_reply": "2023-12-13T23:13:10.302860Z"
    },
    "papermill": {
     "duration": 0.02108,
     "end_time": "2023-12-13T23:13:10.308535",
     "exception": false,
     "start_time": "2023-12-13T23:13:10.287455",
     "status": "completed"
    },
    "tags": []
   },
   "outputs": [
    {
     "name": "stdout",
     "output_type": "stream",
     "text": [
      "全閲覧イベントにおけるTop100アイテムの割合: 0.09180003339137072, 全アイテム数: 13372\n"
     ]
    }
   ],
   "source": [
    "top_100_yad_counts = yad_counts[:100].sum()\n",
    "\n",
    "top_100_ratio = top_100_yad_counts/yad_counts.sum()\n",
    "print(f\"全閲覧イベントにおけるTop100アイテムの割合: {top_100_ratio}, 全アイテム数: {len(yad_counts.keys())}\")"
   ]
  },
  {
   "cell_type": "markdown",
   "id": "9f899e99",
   "metadata": {
    "papermill": {
     "duration": 0.00844,
     "end_time": "2023-12-13T23:13:10.325208",
     "exception": false,
     "start_time": "2023-12-13T23:13:10.316768",
     "status": "completed"
    },
    "tags": []
   },
   "source": [
    "## train_label.csv\n",
    "\n",
    "学習データのセッションが最終的にどの宿を予約したかを記録したcsvファイルです。\n",
    "\n",
    "- session_id: セッションごとに割り振られたユニークな ID\n",
    "- yad_no: 予約した宿 ID"
   ]
  },
  {
   "cell_type": "code",
   "execution_count": 10,
   "id": "a88669a0",
   "metadata": {
    "execution": {
     "iopub.execute_input": "2023-12-13T23:13:10.342603Z",
     "iopub.status.busy": "2023-12-13T23:13:10.342217Z",
     "iopub.status.idle": "2023-12-13T23:13:10.845861Z",
     "shell.execute_reply": "2023-12-13T23:13:10.845131Z"
    },
    "papermill": {
     "duration": 0.514995,
     "end_time": "2023-12-13T23:13:10.847953",
     "exception": false,
     "start_time": "2023-12-13T23:13:10.332958",
     "status": "completed"
    },
    "tags": []
   },
   "outputs": [],
   "source": [
    "train_labels_df = pd.read_csv(\"/kaggle/input/atmacup16-recruit/train_label.csv\")"
   ]
  },
  {
   "cell_type": "code",
   "execution_count": 11,
   "id": "cd9f5e77",
   "metadata": {
    "execution": {
     "iopub.execute_input": "2023-12-13T23:13:10.865824Z",
     "iopub.status.busy": "2023-12-13T23:13:10.865438Z",
     "iopub.status.idle": "2023-12-13T23:13:10.876835Z",
     "shell.execute_reply": "2023-12-13T23:13:10.875843Z"
    },
    "papermill": {
     "duration": 0.02228,
     "end_time": "2023-12-13T23:13:10.878545",
     "exception": false,
     "start_time": "2023-12-13T23:13:10.856265",
     "status": "completed"
    },
    "tags": []
   },
   "outputs": [
    {
     "data": {
      "text/html": [
       "<div>\n",
       "<style scoped>\n",
       "    .dataframe tbody tr th:only-of-type {\n",
       "        vertical-align: middle;\n",
       "    }\n",
       "\n",
       "    .dataframe tbody tr th {\n",
       "        vertical-align: top;\n",
       "    }\n",
       "\n",
       "    .dataframe thead th {\n",
       "        text-align: right;\n",
       "    }\n",
       "</style>\n",
       "<table border=\"1\" class=\"dataframe\">\n",
       "  <thead>\n",
       "    <tr style=\"text-align: right;\">\n",
       "      <th></th>\n",
       "      <th>session_id</th>\n",
       "      <th>yad_no</th>\n",
       "    </tr>\n",
       "  </thead>\n",
       "  <tbody>\n",
       "    <tr>\n",
       "      <th>0</th>\n",
       "      <td>000007603d533d30453cc45d0f3d119f</td>\n",
       "      <td>4101</td>\n",
       "    </tr>\n",
       "    <tr>\n",
       "      <th>1</th>\n",
       "      <td>0000ca043ed437a1472c9d1d154eb49b</td>\n",
       "      <td>8253</td>\n",
       "    </tr>\n",
       "    <tr>\n",
       "      <th>2</th>\n",
       "      <td>0000d4835cf113316fe447e2f80ba1c8</td>\n",
       "      <td>4863</td>\n",
       "    </tr>\n",
       "    <tr>\n",
       "      <th>3</th>\n",
       "      <td>0000fcda1ae1b2f431e55a7075d1f500</td>\n",
       "      <td>1652</td>\n",
       "    </tr>\n",
       "    <tr>\n",
       "      <th>4</th>\n",
       "      <td>000104bdffaaad1a1e0a9ebacf585f33</td>\n",
       "      <td>96</td>\n",
       "    </tr>\n",
       "    <tr>\n",
       "      <th>...</th>\n",
       "      <td>...</td>\n",
       "      <td>...</td>\n",
       "    </tr>\n",
       "    <tr>\n",
       "      <th>288693</th>\n",
       "      <td>ffff2262d38abdeb247ebd591835dcc9</td>\n",
       "      <td>2259</td>\n",
       "    </tr>\n",
       "    <tr>\n",
       "      <th>288694</th>\n",
       "      <td>ffff2360540745117193ecadcdc06538</td>\n",
       "      <td>963</td>\n",
       "    </tr>\n",
       "    <tr>\n",
       "      <th>288695</th>\n",
       "      <td>ffff7fb4617164b2604aaf51c40bf82d</td>\n",
       "      <td>13719</td>\n",
       "    </tr>\n",
       "    <tr>\n",
       "      <th>288696</th>\n",
       "      <td>ffffcd5bc19d62cad5a3815c87818d83</td>\n",
       "      <td>10619</td>\n",
       "    </tr>\n",
       "    <tr>\n",
       "      <th>288697</th>\n",
       "      <td>fffffa7baf370083ebcdd98f26a7e31a</td>\n",
       "      <td>2439</td>\n",
       "    </tr>\n",
       "  </tbody>\n",
       "</table>\n",
       "<p>288698 rows × 2 columns</p>\n",
       "</div>"
      ],
      "text/plain": [
       "                              session_id  yad_no\n",
       "0       000007603d533d30453cc45d0f3d119f    4101\n",
       "1       0000ca043ed437a1472c9d1d154eb49b    8253\n",
       "2       0000d4835cf113316fe447e2f80ba1c8    4863\n",
       "3       0000fcda1ae1b2f431e55a7075d1f500    1652\n",
       "4       000104bdffaaad1a1e0a9ebacf585f33      96\n",
       "...                                  ...     ...\n",
       "288693  ffff2262d38abdeb247ebd591835dcc9    2259\n",
       "288694  ffff2360540745117193ecadcdc06538     963\n",
       "288695  ffff7fb4617164b2604aaf51c40bf82d   13719\n",
       "288696  ffffcd5bc19d62cad5a3815c87818d83   10619\n",
       "288697  fffffa7baf370083ebcdd98f26a7e31a    2439\n",
       "\n",
       "[288698 rows x 2 columns]"
      ]
     },
     "execution_count": 11,
     "metadata": {},
     "output_type": "execute_result"
    }
   ],
   "source": [
    "train_labels_df"
   ]
  },
  {
   "cell_type": "markdown",
   "id": "9a188492",
   "metadata": {
    "papermill": {
     "duration": 0.007548,
     "end_time": "2023-12-13T23:13:10.894878",
     "exception": false,
     "start_time": "2023-12-13T23:13:10.887330",
     "status": "completed"
    },
    "tags": []
   },
   "source": [
    "## yado.csv\n",
    "\n",
    "宿に関する属性情報が記録された csv ファイルです。\n",
    "\n",
    "- yad_no: 宿ごとに割り振られたユニークな ID\n",
    "\n",
    "以下は宿の属性に関する情報です。\n",
    "\n",
    "- yad_type : 宿泊種別 lodging type\n",
    "- total_room_cnt : 部屋数 total number of rooms\n",
    "- wireless_lan_flg : 無線 LAN があるかどうか wireless LAN connection\n",
    "- onsen_flg : 温泉を有しているかどうか flag with hot spring\n",
    "- kd_stn_5min : 駅まで 5 分以内かどうか within 5 minutes walk from the station\n",
    "- kd_bch_5min : ビーチまで 5 分以内かどうか within 5 minutes walk to the beach\n",
    "- kd_slp_5min : ゲレンデまで 5 分以内かどうか within 5 minutes walk to the slopes\n",
    "- kd_conv_walk_5min : コンビニまで 5 分以内かどうか within 5 minutes walk to convenience store\n",
    "\n",
    "以下は宿の場所に関する情報です。「広域」から「小エリア」は階層構造になっています。(ex: 広域エリアには複数の県が紐づくが、一つの県に対しては一つの広域エリアのみが紐づく)\n",
    "\n",
    "- wid_cd : 広域エリア CD wide area CD\n",
    "- ken_cd : 県 CD prefecture CD\n",
    "- lrg_cd : 大エリア CD large area CD\n",
    "- sml_cd : 小エリア CD small area CD"
   ]
  },
  {
   "cell_type": "markdown",
   "id": "63887c9d",
   "metadata": {
    "papermill": {
     "duration": 0.007545,
     "end_time": "2023-12-13T23:13:10.910275",
     "exception": false,
     "start_time": "2023-12-13T23:13:10.902730",
     "status": "completed"
    },
    "tags": []
   },
   "source": [
    "所感\n",
    "\n",
    "- total_room_cnt: この特徴量で宿の規模感がわかる\n",
    "- flg系\n",
    "    - wireless_lan_flg(無線LAN), onsen_flg(温泉)は見るかも\n",
    "    - kd_stn_5min(駅近), kd_conv_walk_5min(コンビニ近い)\n",
    "    - kd_bch_5min(ビーチ近い), kd_slp_5min(ゲレンデ近い)\n",
    "- ビーチとゲレンデに関しては、学習データにtime_stampがあれば有効だったかもしれない\n",
    "    - むしろ、kd_bch_5min, kd_slp_5minをデータ観察すれば、季節がわかるかも\n",
    "    - kd_bch_5minが多い時期は夏だし、kd_slp_5minが多い時期は冬\n",
    "- 意外と説明変数少ないかも\n",
    "    - 2週間のコンペというのもありそう\n",
    "    - 宿の料金データ欲しい\n",
    "\n",
    "宿の調べ方\n",
    "\n",
    "- 旅行先の大エリア・小エリアから絞る\n",
    "    - lrg_cd, sml_cdくらい？"
   ]
  },
  {
   "cell_type": "code",
   "execution_count": 12,
   "id": "340baf0e",
   "metadata": {
    "execution": {
     "iopub.execute_input": "2023-12-13T23:13:10.929051Z",
     "iopub.status.busy": "2023-12-13T23:13:10.927922Z",
     "iopub.status.idle": "2023-12-13T23:13:10.998702Z",
     "shell.execute_reply": "2023-12-13T23:13:10.997771Z"
    },
    "papermill": {
     "duration": 0.082711,
     "end_time": "2023-12-13T23:13:11.000972",
     "exception": false,
     "start_time": "2023-12-13T23:13:10.918261",
     "status": "completed"
    },
    "tags": []
   },
   "outputs": [],
   "source": [
    "yados_df = pd.read_csv(\"/kaggle/input/atmacup16-recruit/yado.csv\")\n",
    "yados_df = yados_df.fillna(\n",
    "    {\n",
    "        \"wireless_lan_flg\": 0,\n",
    "        \"onsen_flg\": 0,\n",
    "        \"kd_stn_5min\": 0,\n",
    "        \"kd_bch_5min\": 0,\n",
    "        \"kd_slp_5min\": 0,\n",
    "        \"kd_conv_walk_5min\": 0,\n",
    "    }\n",
    ").astype(\n",
    "    {\n",
    "        \"yad_no\": np.int32,\n",
    "        \"yad_type\": np.int8,\n",
    "#         \"total_room_count\": np.int32, # TODO: NaNの扱い（中央値とする？）\n",
    "        \"wireless_lan_flg\": np.int8,\n",
    "        \"onsen_flg\": np.int8,\n",
    "        \"kd_stn_5min\": np.int8,\n",
    "        \"kd_slp_5min\": np.int8,\n",
    "        \"kd_bch_5min\": np.int8,\n",
    "        \"kd_conv_walk_5min\": np.int8,        \n",
    "    }\n",
    ")"
   ]
  },
  {
   "cell_type": "code",
   "execution_count": 13,
   "id": "f67b4623",
   "metadata": {
    "execution": {
     "iopub.execute_input": "2023-12-13T23:13:11.018538Z",
     "iopub.status.busy": "2023-12-13T23:13:11.018195Z",
     "iopub.status.idle": "2023-12-13T23:13:11.039048Z",
     "shell.execute_reply": "2023-12-13T23:13:11.037649Z"
    },
    "papermill": {
     "duration": 0.032938,
     "end_time": "2023-12-13T23:13:11.041887",
     "exception": false,
     "start_time": "2023-12-13T23:13:11.008949",
     "status": "completed"
    },
    "tags": []
   },
   "outputs": [
    {
     "data": {
      "text/html": [
       "<div>\n",
       "<style scoped>\n",
       "    .dataframe tbody tr th:only-of-type {\n",
       "        vertical-align: middle;\n",
       "    }\n",
       "\n",
       "    .dataframe tbody tr th {\n",
       "        vertical-align: top;\n",
       "    }\n",
       "\n",
       "    .dataframe thead th {\n",
       "        text-align: right;\n",
       "    }\n",
       "</style>\n",
       "<table border=\"1\" class=\"dataframe\">\n",
       "  <thead>\n",
       "    <tr style=\"text-align: right;\">\n",
       "      <th></th>\n",
       "      <th>yad_no</th>\n",
       "      <th>yad_type</th>\n",
       "      <th>total_room_cnt</th>\n",
       "      <th>wireless_lan_flg</th>\n",
       "      <th>onsen_flg</th>\n",
       "      <th>kd_stn_5min</th>\n",
       "      <th>kd_bch_5min</th>\n",
       "      <th>kd_slp_5min</th>\n",
       "      <th>kd_conv_walk_5min</th>\n",
       "      <th>wid_cd</th>\n",
       "      <th>ken_cd</th>\n",
       "      <th>lrg_cd</th>\n",
       "      <th>sml_cd</th>\n",
       "    </tr>\n",
       "  </thead>\n",
       "  <tbody>\n",
       "    <tr>\n",
       "      <th>0</th>\n",
       "      <td>1</td>\n",
       "      <td>0</td>\n",
       "      <td>129.0</td>\n",
       "      <td>1</td>\n",
       "      <td>0</td>\n",
       "      <td>1</td>\n",
       "      <td>0</td>\n",
       "      <td>0</td>\n",
       "      <td>1</td>\n",
       "      <td>f0112abf369fb03cdc5f5309300913da</td>\n",
       "      <td>072c85e1653e10c9c7dd065ad007125a</td>\n",
       "      <td>449c52ef581d5f9ef311189469a0520e</td>\n",
       "      <td>677a32689cd1ad74e867f1fbe43a3e1c</td>\n",
       "    </tr>\n",
       "    <tr>\n",
       "      <th>1</th>\n",
       "      <td>2</td>\n",
       "      <td>0</td>\n",
       "      <td>23.0</td>\n",
       "      <td>1</td>\n",
       "      <td>0</td>\n",
       "      <td>0</td>\n",
       "      <td>0</td>\n",
       "      <td>0</td>\n",
       "      <td>0</td>\n",
       "      <td>d86102dd9c232bade9a97dccad40df48</td>\n",
       "      <td>b4d2fb4e51ea7bca80eb1270aa474a54</td>\n",
       "      <td>5c9a8f48e9df0234da012747a02d4b29</td>\n",
       "      <td>4ee16ee838dd2703cc9a1d5a535f0ced</td>\n",
       "    </tr>\n",
       "    <tr>\n",
       "      <th>2</th>\n",
       "      <td>3</td>\n",
       "      <td>0</td>\n",
       "      <td>167.0</td>\n",
       "      <td>1</td>\n",
       "      <td>1</td>\n",
       "      <td>1</td>\n",
       "      <td>0</td>\n",
       "      <td>0</td>\n",
       "      <td>1</td>\n",
       "      <td>46e33861f921c3e38b81998fbf283f01</td>\n",
       "      <td>572d60f0f5212aacda515ebf81fb0a3a</td>\n",
       "      <td>8a623b960557e87bd1f4edf71b6255be</td>\n",
       "      <td>ab9480fd72a44d51690ab16c4ad4d49c</td>\n",
       "    </tr>\n",
       "    <tr>\n",
       "      <th>3</th>\n",
       "      <td>4</td>\n",
       "      <td>0</td>\n",
       "      <td>144.0</td>\n",
       "      <td>1</td>\n",
       "      <td>0</td>\n",
       "      <td>1</td>\n",
       "      <td>0</td>\n",
       "      <td>0</td>\n",
       "      <td>1</td>\n",
       "      <td>46e33861f921c3e38b81998fbf283f01</td>\n",
       "      <td>107c7305a74c8dcc4f143de208bf7ec2</td>\n",
       "      <td>52c9ea83f2cfe92be54cb6bc961edf21</td>\n",
       "      <td>1cc3e1838bb0fd0fde0396130b1f82b9</td>\n",
       "    </tr>\n",
       "    <tr>\n",
       "      <th>4</th>\n",
       "      <td>5</td>\n",
       "      <td>0</td>\n",
       "      <td>41.0</td>\n",
       "      <td>1</td>\n",
       "      <td>1</td>\n",
       "      <td>0</td>\n",
       "      <td>0</td>\n",
       "      <td>0</td>\n",
       "      <td>0</td>\n",
       "      <td>43875109d1dab93592812c50d18270a7</td>\n",
       "      <td>75617bb07a2785a948ab1958909211f1</td>\n",
       "      <td>9ea5a911019b66ccd42f556c42a2fe2f</td>\n",
       "      <td>be1b876af18afc4deeb3081591d2a910</td>\n",
       "    </tr>\n",
       "    <tr>\n",
       "      <th>...</th>\n",
       "      <td>...</td>\n",
       "      <td>...</td>\n",
       "      <td>...</td>\n",
       "      <td>...</td>\n",
       "      <td>...</td>\n",
       "      <td>...</td>\n",
       "      <td>...</td>\n",
       "      <td>...</td>\n",
       "      <td>...</td>\n",
       "      <td>...</td>\n",
       "      <td>...</td>\n",
       "      <td>...</td>\n",
       "      <td>...</td>\n",
       "    </tr>\n",
       "    <tr>\n",
       "      <th>13801</th>\n",
       "      <td>13802</td>\n",
       "      <td>0</td>\n",
       "      <td>10.0</td>\n",
       "      <td>1</td>\n",
       "      <td>1</td>\n",
       "      <td>0</td>\n",
       "      <td>0</td>\n",
       "      <td>0</td>\n",
       "      <td>0</td>\n",
       "      <td>c312e07b7a5d456d53a5b00910a336e1</td>\n",
       "      <td>558ac1909f0318b82c621ab250329d6d</td>\n",
       "      <td>80fb3c5ad0c89931d0923e9f80885218</td>\n",
       "      <td>5eb30820716082c720836733d73c605e</td>\n",
       "    </tr>\n",
       "    <tr>\n",
       "      <th>13802</th>\n",
       "      <td>13803</td>\n",
       "      <td>0</td>\n",
       "      <td>NaN</td>\n",
       "      <td>0</td>\n",
       "      <td>0</td>\n",
       "      <td>1</td>\n",
       "      <td>0</td>\n",
       "      <td>0</td>\n",
       "      <td>1</td>\n",
       "      <td>dc414a17890cfc17d011d5038b88ca93</td>\n",
       "      <td>d78f53d0856617bc782f02c3280dfef2</td>\n",
       "      <td>e5cfcc0a43c82072aca11628ff0add53</td>\n",
       "      <td>20ad8785a30f125bee5a8a325782ab06</td>\n",
       "    </tr>\n",
       "    <tr>\n",
       "      <th>13803</th>\n",
       "      <td>13804</td>\n",
       "      <td>0</td>\n",
       "      <td>80.0</td>\n",
       "      <td>1</td>\n",
       "      <td>1</td>\n",
       "      <td>0</td>\n",
       "      <td>1</td>\n",
       "      <td>0</td>\n",
       "      <td>1</td>\n",
       "      <td>d86102dd9c232bade9a97dccad40df48</td>\n",
       "      <td>7d76599bd27ff9e7823b2b1323ca763e</td>\n",
       "      <td>c5fe8848b6ab39b040cdb3668aea9433</td>\n",
       "      <td>b3eab50ccf6ffb51c37d36ee384abfbf</td>\n",
       "    </tr>\n",
       "    <tr>\n",
       "      <th>13804</th>\n",
       "      <td>13805</td>\n",
       "      <td>0</td>\n",
       "      <td>8.0</td>\n",
       "      <td>1</td>\n",
       "      <td>1</td>\n",
       "      <td>0</td>\n",
       "      <td>0</td>\n",
       "      <td>0</td>\n",
       "      <td>1</td>\n",
       "      <td>3300cf6f774b7c6a5807110f244cbc21</td>\n",
       "      <td>689cf8289e7ea0b2eef1b017dcdfe8de</td>\n",
       "      <td>8b712435430a6875839a6c3b5a40b008</td>\n",
       "      <td>2b4165444a777465576b25f65697d739</td>\n",
       "    </tr>\n",
       "    <tr>\n",
       "      <th>13805</th>\n",
       "      <td>13806</td>\n",
       "      <td>0</td>\n",
       "      <td>120.0</td>\n",
       "      <td>0</td>\n",
       "      <td>0</td>\n",
       "      <td>1</td>\n",
       "      <td>0</td>\n",
       "      <td>0</td>\n",
       "      <td>1</td>\n",
       "      <td>f0112abf369fb03cdc5f5309300913da</td>\n",
       "      <td>072c85e1653e10c9c7dd065ad007125a</td>\n",
       "      <td>810a15fb99b13cded44cc30ccf6f61a8</td>\n",
       "      <td>bacd9adfafe9ef2ab4aad55e6d99f09c</td>\n",
       "    </tr>\n",
       "  </tbody>\n",
       "</table>\n",
       "<p>13806 rows × 13 columns</p>\n",
       "</div>"
      ],
      "text/plain": [
       "       yad_no  yad_type  total_room_cnt  wireless_lan_flg  onsen_flg  \\\n",
       "0           1         0           129.0                 1          0   \n",
       "1           2         0            23.0                 1          0   \n",
       "2           3         0           167.0                 1          1   \n",
       "3           4         0           144.0                 1          0   \n",
       "4           5         0            41.0                 1          1   \n",
       "...       ...       ...             ...               ...        ...   \n",
       "13801   13802         0            10.0                 1          1   \n",
       "13802   13803         0             NaN                 0          0   \n",
       "13803   13804         0            80.0                 1          1   \n",
       "13804   13805         0             8.0                 1          1   \n",
       "13805   13806         0           120.0                 0          0   \n",
       "\n",
       "       kd_stn_5min  kd_bch_5min  kd_slp_5min  kd_conv_walk_5min  \\\n",
       "0                1            0            0                  1   \n",
       "1                0            0            0                  0   \n",
       "2                1            0            0                  1   \n",
       "3                1            0            0                  1   \n",
       "4                0            0            0                  0   \n",
       "...            ...          ...          ...                ...   \n",
       "13801            0            0            0                  0   \n",
       "13802            1            0            0                  1   \n",
       "13803            0            1            0                  1   \n",
       "13804            0            0            0                  1   \n",
       "13805            1            0            0                  1   \n",
       "\n",
       "                                 wid_cd                            ken_cd  \\\n",
       "0      f0112abf369fb03cdc5f5309300913da  072c85e1653e10c9c7dd065ad007125a   \n",
       "1      d86102dd9c232bade9a97dccad40df48  b4d2fb4e51ea7bca80eb1270aa474a54   \n",
       "2      46e33861f921c3e38b81998fbf283f01  572d60f0f5212aacda515ebf81fb0a3a   \n",
       "3      46e33861f921c3e38b81998fbf283f01  107c7305a74c8dcc4f143de208bf7ec2   \n",
       "4      43875109d1dab93592812c50d18270a7  75617bb07a2785a948ab1958909211f1   \n",
       "...                                 ...                               ...   \n",
       "13801  c312e07b7a5d456d53a5b00910a336e1  558ac1909f0318b82c621ab250329d6d   \n",
       "13802  dc414a17890cfc17d011d5038b88ca93  d78f53d0856617bc782f02c3280dfef2   \n",
       "13803  d86102dd9c232bade9a97dccad40df48  7d76599bd27ff9e7823b2b1323ca763e   \n",
       "13804  3300cf6f774b7c6a5807110f244cbc21  689cf8289e7ea0b2eef1b017dcdfe8de   \n",
       "13805  f0112abf369fb03cdc5f5309300913da  072c85e1653e10c9c7dd065ad007125a   \n",
       "\n",
       "                                 lrg_cd                            sml_cd  \n",
       "0      449c52ef581d5f9ef311189469a0520e  677a32689cd1ad74e867f1fbe43a3e1c  \n",
       "1      5c9a8f48e9df0234da012747a02d4b29  4ee16ee838dd2703cc9a1d5a535f0ced  \n",
       "2      8a623b960557e87bd1f4edf71b6255be  ab9480fd72a44d51690ab16c4ad4d49c  \n",
       "3      52c9ea83f2cfe92be54cb6bc961edf21  1cc3e1838bb0fd0fde0396130b1f82b9  \n",
       "4      9ea5a911019b66ccd42f556c42a2fe2f  be1b876af18afc4deeb3081591d2a910  \n",
       "...                                 ...                               ...  \n",
       "13801  80fb3c5ad0c89931d0923e9f80885218  5eb30820716082c720836733d73c605e  \n",
       "13802  e5cfcc0a43c82072aca11628ff0add53  20ad8785a30f125bee5a8a325782ab06  \n",
       "13803  c5fe8848b6ab39b040cdb3668aea9433  b3eab50ccf6ffb51c37d36ee384abfbf  \n",
       "13804  8b712435430a6875839a6c3b5a40b008  2b4165444a777465576b25f65697d739  \n",
       "13805  810a15fb99b13cded44cc30ccf6f61a8  bacd9adfafe9ef2ab4aad55e6d99f09c  \n",
       "\n",
       "[13806 rows x 13 columns]"
      ]
     },
     "execution_count": 13,
     "metadata": {},
     "output_type": "execute_result"
    }
   ],
   "source": [
    "yados_df"
   ]
  },
  {
   "cell_type": "markdown",
   "id": "d47979cf",
   "metadata": {
    "papermill": {
     "duration": 0.008186,
     "end_time": "2023-12-13T23:13:11.058423",
     "exception": false,
     "start_time": "2023-12-13T23:13:11.050237",
     "status": "completed"
    },
    "tags": []
   },
   "source": [
    "- 13806件と少ないかも"
   ]
  },
  {
   "cell_type": "code",
   "execution_count": 14,
   "id": "e111c306",
   "metadata": {
    "execution": {
     "iopub.execute_input": "2023-12-13T23:13:11.078166Z",
     "iopub.status.busy": "2023-12-13T23:13:11.077381Z",
     "iopub.status.idle": "2023-12-13T23:13:11.121043Z",
     "shell.execute_reply": "2023-12-13T23:13:11.119843Z"
    },
    "papermill": {
     "duration": 0.05659,
     "end_time": "2023-12-13T23:13:11.124034",
     "exception": false,
     "start_time": "2023-12-13T23:13:11.067444",
     "status": "completed"
    },
    "tags": []
   },
   "outputs": [
    {
     "data": {
      "text/html": [
       "<div>\n",
       "<style scoped>\n",
       "    .dataframe tbody tr th:only-of-type {\n",
       "        vertical-align: middle;\n",
       "    }\n",
       "\n",
       "    .dataframe tbody tr th {\n",
       "        vertical-align: top;\n",
       "    }\n",
       "\n",
       "    .dataframe thead th {\n",
       "        text-align: right;\n",
       "    }\n",
       "</style>\n",
       "<table border=\"1\" class=\"dataframe\">\n",
       "  <thead>\n",
       "    <tr style=\"text-align: right;\">\n",
       "      <th></th>\n",
       "      <th>yad_no</th>\n",
       "      <th>yad_type</th>\n",
       "      <th>total_room_cnt</th>\n",
       "      <th>wireless_lan_flg</th>\n",
       "      <th>onsen_flg</th>\n",
       "      <th>kd_stn_5min</th>\n",
       "      <th>kd_bch_5min</th>\n",
       "      <th>kd_slp_5min</th>\n",
       "      <th>kd_conv_walk_5min</th>\n",
       "    </tr>\n",
       "  </thead>\n",
       "  <tbody>\n",
       "    <tr>\n",
       "      <th>count</th>\n",
       "      <td>13806.000000</td>\n",
       "      <td>13806.000000</td>\n",
       "      <td>12973.000000</td>\n",
       "      <td>13806.000000</td>\n",
       "      <td>13806.000000</td>\n",
       "      <td>13806.000000</td>\n",
       "      <td>13806.000000</td>\n",
       "      <td>13806.000000</td>\n",
       "      <td>13806.000000</td>\n",
       "    </tr>\n",
       "    <tr>\n",
       "      <th>mean</th>\n",
       "      <td>6903.500000</td>\n",
       "      <td>0.012024</td>\n",
       "      <td>87.854929</td>\n",
       "      <td>0.797262</td>\n",
       "      <td>0.357164</td>\n",
       "      <td>0.385412</td>\n",
       "      <td>0.057077</td>\n",
       "      <td>0.018760</td>\n",
       "      <td>0.605099</td>\n",
       "    </tr>\n",
       "    <tr>\n",
       "      <th>std</th>\n",
       "      <td>3985.593243</td>\n",
       "      <td>0.108996</td>\n",
       "      <td>107.382317</td>\n",
       "      <td>0.402053</td>\n",
       "      <td>0.479181</td>\n",
       "      <td>0.486710</td>\n",
       "      <td>0.231997</td>\n",
       "      <td>0.135681</td>\n",
       "      <td>0.488847</td>\n",
       "    </tr>\n",
       "    <tr>\n",
       "      <th>min</th>\n",
       "      <td>1.000000</td>\n",
       "      <td>0.000000</td>\n",
       "      <td>0.000000</td>\n",
       "      <td>0.000000</td>\n",
       "      <td>0.000000</td>\n",
       "      <td>0.000000</td>\n",
       "      <td>0.000000</td>\n",
       "      <td>0.000000</td>\n",
       "      <td>0.000000</td>\n",
       "    </tr>\n",
       "    <tr>\n",
       "      <th>25%</th>\n",
       "      <td>3452.250000</td>\n",
       "      <td>0.000000</td>\n",
       "      <td>21.000000</td>\n",
       "      <td>1.000000</td>\n",
       "      <td>0.000000</td>\n",
       "      <td>0.000000</td>\n",
       "      <td>0.000000</td>\n",
       "      <td>0.000000</td>\n",
       "      <td>0.000000</td>\n",
       "    </tr>\n",
       "    <tr>\n",
       "      <th>50%</th>\n",
       "      <td>6903.500000</td>\n",
       "      <td>0.000000</td>\n",
       "      <td>52.000000</td>\n",
       "      <td>1.000000</td>\n",
       "      <td>0.000000</td>\n",
       "      <td>0.000000</td>\n",
       "      <td>0.000000</td>\n",
       "      <td>0.000000</td>\n",
       "      <td>1.000000</td>\n",
       "    </tr>\n",
       "    <tr>\n",
       "      <th>75%</th>\n",
       "      <td>10354.750000</td>\n",
       "      <td>0.000000</td>\n",
       "      <td>120.000000</td>\n",
       "      <td>1.000000</td>\n",
       "      <td>1.000000</td>\n",
       "      <td>1.000000</td>\n",
       "      <td>0.000000</td>\n",
       "      <td>0.000000</td>\n",
       "      <td>1.000000</td>\n",
       "    </tr>\n",
       "    <tr>\n",
       "      <th>max</th>\n",
       "      <td>13806.000000</td>\n",
       "      <td>1.000000</td>\n",
       "      <td>2384.000000</td>\n",
       "      <td>1.000000</td>\n",
       "      <td>1.000000</td>\n",
       "      <td>1.000000</td>\n",
       "      <td>1.000000</td>\n",
       "      <td>1.000000</td>\n",
       "      <td>1.000000</td>\n",
       "    </tr>\n",
       "  </tbody>\n",
       "</table>\n",
       "</div>"
      ],
      "text/plain": [
       "             yad_no      yad_type  total_room_cnt  wireless_lan_flg  \\\n",
       "count  13806.000000  13806.000000    12973.000000      13806.000000   \n",
       "mean    6903.500000      0.012024       87.854929          0.797262   \n",
       "std     3985.593243      0.108996      107.382317          0.402053   \n",
       "min        1.000000      0.000000        0.000000          0.000000   \n",
       "25%     3452.250000      0.000000       21.000000          1.000000   \n",
       "50%     6903.500000      0.000000       52.000000          1.000000   \n",
       "75%    10354.750000      0.000000      120.000000          1.000000   \n",
       "max    13806.000000      1.000000     2384.000000          1.000000   \n",
       "\n",
       "          onsen_flg   kd_stn_5min   kd_bch_5min   kd_slp_5min  \\\n",
       "count  13806.000000  13806.000000  13806.000000  13806.000000   \n",
       "mean       0.357164      0.385412      0.057077      0.018760   \n",
       "std        0.479181      0.486710      0.231997      0.135681   \n",
       "min        0.000000      0.000000      0.000000      0.000000   \n",
       "25%        0.000000      0.000000      0.000000      0.000000   \n",
       "50%        0.000000      0.000000      0.000000      0.000000   \n",
       "75%        1.000000      1.000000      0.000000      0.000000   \n",
       "max        1.000000      1.000000      1.000000      1.000000   \n",
       "\n",
       "       kd_conv_walk_5min  \n",
       "count       13806.000000  \n",
       "mean            0.605099  \n",
       "std             0.488847  \n",
       "min             0.000000  \n",
       "25%             0.000000  \n",
       "50%             1.000000  \n",
       "75%             1.000000  \n",
       "max             1.000000  "
      ]
     },
     "execution_count": 14,
     "metadata": {},
     "output_type": "execute_result"
    }
   ],
   "source": [
    "yados_df.describe()"
   ]
  },
  {
   "cell_type": "markdown",
   "id": "e3c05399",
   "metadata": {
    "papermill": {
     "duration": 0.008457,
     "end_time": "2023-12-13T23:13:11.141313",
     "exception": false,
     "start_time": "2023-12-13T23:13:11.132856",
     "status": "completed"
    },
    "tags": []
   },
   "source": [
    "### yad_type"
   ]
  },
  {
   "cell_type": "code",
   "execution_count": 15,
   "id": "b89d6610",
   "metadata": {
    "execution": {
     "iopub.execute_input": "2023-12-13T23:13:11.161240Z",
     "iopub.status.busy": "2023-12-13T23:13:11.160148Z",
     "iopub.status.idle": "2023-12-13T23:13:11.272824Z",
     "shell.execute_reply": "2023-12-13T23:13:11.271635Z"
    },
    "papermill": {
     "duration": 0.125369,
     "end_time": "2023-12-13T23:13:11.275394",
     "exception": false,
     "start_time": "2023-12-13T23:13:11.150025",
     "status": "completed"
    },
    "tags": []
   },
   "outputs": [
    {
     "name": "stdout",
     "output_type": "stream",
     "text": [
      "yad_type\n",
      "0    13640\n",
      "1      166\n",
      "Name: yad_no, dtype: int64\n"
     ]
    },
    {
     "data": {
      "image/png": "[encoded data removed]",
      "text/plain": [
       "<Figure size 640x480 with 1 Axes>"
      ]
     },
     "metadata": {},
     "output_type": "display_data"
    }
   ],
   "source": [
    "yad_type_df = yados_df.groupby(\"yad_type\")[\"yad_no\"].count()\n",
    "\n",
    "print(yad_type_df)\n",
    "\n",
    "plt.pie(yad_type_df, labels=yad_type_df.index, autopct=\"%1.1f%%\")\n",
    "plt.title(\"yad_type ratio of yads\")\n",
    "plt.show()"
   ]
  },
  {
   "cell_type": "markdown",
   "id": "2e6a4890",
   "metadata": {
    "papermill": {
     "duration": 0.011363,
     "end_time": "2023-12-13T23:13:11.298367",
     "exception": false,
     "start_time": "2023-12-13T23:13:11.287004",
     "status": "completed"
    },
    "tags": []
   },
   "source": [
    "### total_room_cnt"
   ]
  },
  {
   "cell_type": "code",
   "execution_count": 16,
   "id": "6448e00c",
   "metadata": {
    "execution": {
     "iopub.execute_input": "2023-12-13T23:13:11.324764Z",
     "iopub.status.busy": "2023-12-13T23:13:11.323909Z",
     "iopub.status.idle": "2023-12-13T23:13:11.563268Z",
     "shell.execute_reply": "2023-12-13T23:13:11.562255Z"
    },
    "papermill": {
     "duration": 0.255395,
     "end_time": "2023-12-13T23:13:11.565718",
     "exception": false,
     "start_time": "2023-12-13T23:13:11.310323",
     "status": "completed"
    },
    "tags": []
   },
   "outputs": [
    {
     "data": {
      "image/png": "[encoded data removed]",
      "text/plain": [
       "<Figure size 640x480 with 1 Axes>"
      ]
     },
     "metadata": {},
     "output_type": "display_data"
    }
   ],
   "source": [
    "plt.hist(yados_df[\"total_room_cnt\"], rwidth=0.8, bins=range(0, 500, 10))\n",
    "plt.xlabel(\"total_room_cnt\")\n",
    "plt.ylabel(\"count\")\n",
    "\n",
    "plt.show()"
   ]
  },
  {
   "cell_type": "markdown",
   "id": "35d3cec8",
   "metadata": {
    "papermill": {
     "duration": 0.008876,
     "end_time": "2023-12-13T23:13:11.584122",
     "exception": false,
     "start_time": "2023-12-13T23:13:11.575246",
     "status": "completed"
    },
    "tags": []
   },
   "source": [
    "### flg\n",
    "\n",
    "- wireless_lan_flg : 無線 LAN があるかどうか wireless LAN connection\n",
    "- onsen_flg : 温泉を有しているかどうか flag with hot spring\n",
    "- kd_stn_5min : 駅まで 5 分以内かどうか within 5 minutes walk from the station\n",
    "- kd_bch_5min : ビーチまで 5 分以内かどうか within 5 minutes walk to the beach\n",
    "- kd_slp_5min : ゲレンデまで 5 分以内かどうか within 5 minutes walk to the slopes\n",
    "- kd_conv_walk_5min : コンビニまで 5 分以内かどうか within 5 minutes walk to convenience store"
   ]
  },
  {
   "cell_type": "code",
   "execution_count": 17,
   "id": "b00cc910",
   "metadata": {
    "execution": {
     "iopub.execute_input": "2023-12-13T23:13:11.662164Z",
     "iopub.status.busy": "2023-12-13T23:13:11.661781Z",
     "iopub.status.idle": "2023-12-13T23:13:12.272076Z",
     "shell.execute_reply": "2023-12-13T23:13:12.271346Z"
    },
    "papermill": {
     "duration": 0.680522,
     "end_time": "2023-12-13T23:13:12.274650",
     "exception": false,
     "start_time": "2023-12-13T23:13:11.594128",
     "status": "completed"
    },
    "tags": []
   },
   "outputs": [
    {
     "name": "stdout",
     "output_type": "stream",
     "text": [
      "wireless_lan_flg\n",
      "0     2799\n",
      "1    11007\n",
      "Name: yad_no, dtype: int64\n"
     ]
    },
    {
     "data": {
      "image/png": "[encoded data removed]",
      "text/plain": [
       "<Figure size 640x480 with 1 Axes>"
      ]
     },
     "metadata": {},
     "output_type": "display_data"
    },
    {
     "name": "stdout",
     "output_type": "stream",
     "text": [
      "onsen_flg\n",
      "0    8875\n",
      "1    4931\n",
      "Name: yad_no, dtype: int64\n"
     ]
    },
    {
     "data": {
      "image/png": "[encoded data removed]",
      "text/plain": [
       "<Figure size 640x480 with 1 Axes>"
      ]
     },
     "metadata": {},
     "output_type": "display_data"
    },
    {
     "name": "stdout",
     "output_type": "stream",
     "text": [
      "kd_stn_5min\n",
      "0    8485\n",
      "1    5321\n",
      "Name: yad_no, dtype: int64\n"
     ]
    },
    {
     "data": {
      "image/png": "[encoded data removed]",
      "text/plain": [
       "<Figure size 640x480 with 1 Axes>"
      ]
     },
     "metadata": {},
     "output_type": "display_data"
    },
    {
     "name": "stdout",
     "output_type": "stream",
     "text": [
      "kd_bch_5min\n",
      "0    13018\n",
      "1      788\n",
      "Name: yad_no, dtype: int64\n"
     ]
    },
    {
     "data": {
      "image/png": "[encoded data removed]",
      "text/plain": [
       "<Figure size 640x480 with 1 Axes>"
      ]
     },
     "metadata": {},
     "output_type": "display_data"
    },
    {
     "name": "stdout",
     "output_type": "stream",
     "text": [
      "kd_slp_5min\n",
      "0    13547\n",
      "1      259\n",
      "Name: yad_no, dtype: int64\n"
     ]
    },
    {
     "data": {
      "image/png": "[encoded data removed]",
      "text/plain": [
       "<Figure size 640x480 with 1 Axes>"
      ]
     },
     "metadata": {},
     "output_type": "display_data"
    },
    {
     "name": "stdout",
     "output_type": "stream",
     "text": [
      "kd_conv_walk_5min\n",
      "0    5452\n",
      "1    8354\n",
      "Name: yad_no, dtype: int64\n"
     ]
    },
    {
     "data": {
      "image/png": "[encoded data removed]",
      "text/plain": [
       "<Figure size 640x480 with 1 Axes>"
      ]
     },
     "metadata": {},
     "output_type": "display_data"
    }
   ],
   "source": [
    "flgs = [\n",
    "    \"wireless_lan_flg\",\n",
    "    \"onsen_flg\",\n",
    "    \"kd_stn_5min\",\n",
    "    \"kd_bch_5min\",\n",
    "    \"kd_slp_5min\",\n",
    "    \"kd_conv_walk_5min\",\n",
    "]\n",
    "\n",
    "for v in flgs:\n",
    "    df = yados_df.groupby(v)[\"yad_no\"].count()\n",
    "\n",
    "    print(df)\n",
    "\n",
    "    plt.pie(df, labels=df.index, autopct=\"%1.1f%%\")\n",
    "    plt.title(f\"{v} ratio of yads\")\n",
    "    plt.show()"
   ]
  },
  {
   "cell_type": "markdown",
   "id": "e89a6b7b",
   "metadata": {
    "papermill": {
     "duration": 0.015921,
     "end_time": "2023-12-13T23:13:12.305732",
     "exception": false,
     "start_time": "2023-12-13T23:13:12.289811",
     "status": "completed"
    },
    "tags": []
   },
   "source": [
    "### cd\n",
    "\n",
    "- wid_cd : 広域エリア CD wide area CD\n",
    "- ken_cd : 県 CD prefecture CD\n",
    "- lrg_cd : 大エリア CD large area CD\n",
    "- sml_cd : 小エリア CD small area CD"
   ]
  },
  {
   "cell_type": "markdown",
   "id": "6cbb3348",
   "metadata": {
    "papermill": {
     "duration": 0.01506,
     "end_time": "2023-12-13T23:13:12.336125",
     "exception": false,
     "start_time": "2023-12-13T23:13:12.321065",
     "status": "completed"
    },
    "tags": []
   },
   "source": [
    "- TODO: 宿の部屋数は近いものを予約しそう"
   ]
  },
  {
   "cell_type": "markdown",
   "id": "aeb6f672",
   "metadata": {
    "papermill": {
     "duration": 0.012691,
     "end_time": "2023-12-13T23:13:12.363953",
     "exception": false,
     "start_time": "2023-12-13T23:13:12.351262",
     "status": "completed"
    },
    "tags": []
   },
   "source": [
    "## image_embeddings.parquet\n",
    "\n",
    "宿ごとに設定された画像の埋め込み結果です。\n",
    "\n",
    "- yad_no: 宿No\n",
    "- category: 画像の種類\n",
    "- emb_0 ~ emb_511: 対応する画像埋め込み結果"
   ]
  },
  {
   "cell_type": "code",
   "execution_count": null,
   "id": "164b369d",
   "metadata": {
    "papermill": {
     "duration": 0.01084,
     "end_time": "2023-12-13T23:13:12.386227",
     "exception": false,
     "start_time": "2023-12-13T23:13:12.375387",
     "status": "completed"
    },
    "tags": []
   },
   "outputs": [],
   "source": []
  }
 ],
 "metadata": {
  "kaggle": {
   "accelerator": "none",
   "dataSources": [
    {
     "datasetId": 4139157,
     "sourceId": 7165383,
     "sourceType": "datasetVersion"
    }
   ],
   "dockerImageVersionId": 30615,
   "isGpuEnabled": false,
   "isInternetEnabled": true,
   "language": "python",
   "sourceType": "notebook"
  },
  "kernelspec": {
   "display_name": "Python 3",
   "language": "python",
   "name": "python3"
  },
  "language_info": {
   "codemirror_mode": {
    "name": "ipython",
    "version": 3
   },
   "file_extension": ".py",
   "mimetype": "text/x-python",
   "name": "python",
   "nbconvert_exporter": "python",
   "pygments_lexer": "ipython3",
   "version": "3.10.12"
  },
  "papermill": {
   "default_parameters": {},
   "duration": 10.577177,
   "end_time": "2023-12-13T23:13:13.017024",
   "environment_variables": {},
   "exception": null,
   "input_path": "__notebook__.ipynb",
   "output_path": "__notebook__.ipynb",
   "parameters": {},
   "start_time": "2023-12-13T23:13:02.439847",
   "version": "2.4.0"
  }
 },
 "nbformat": 4,
 "nbformat_minor": 5
}
